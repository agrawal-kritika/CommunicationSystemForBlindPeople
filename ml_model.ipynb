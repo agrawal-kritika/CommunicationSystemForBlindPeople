{
 "cells": [
  {
   "cell_type": "code",
   "execution_count": 8,
   "id": "484aa9e9",
   "metadata": {},
   "outputs": [],
   "source": [
    "import os\n",
    "os.remove(\"data/.DS_Store\")"
   ]
  },
  {
   "cell_type": "code",
   "execution_count": 2,
   "id": "dfe79d52",
   "metadata": {},
   "outputs": [
    {
     "data": {
      "text/plain": [
       "['ignore',\n",
       " 'r',\n",
       " 'u',\n",
       " 'i',\n",
       " 'n',\n",
       " 'g',\n",
       " 'z',\n",
       " 't',\n",
       " 's',\n",
       " 'a',\n",
       " 'f',\n",
       " 'o',\n",
       " 'h',\n",
       " 'numeric',\n",
       " 'upper',\n",
       " 'space',\n",
       " 'm',\n",
       " 'j',\n",
       " 'c',\n",
       " 'd',\n",
       " 'v',\n",
       " 'q',\n",
       " 'x',\n",
       " 'e',\n",
       " 'b',\n",
       " 'k',\n",
       " 'l',\n",
       " 'y',\n",
       " 'p',\n",
       " 'w']"
      ]
     },
     "execution_count": 2,
     "metadata": {},
     "output_type": "execute_result"
    }
   ],
   "source": [
    "import os\n",
    "os.listdir(\"data\")"
   ]
  },
  {
   "cell_type": "code",
   "execution_count": 11,
   "id": "5b1344c1",
   "metadata": {},
   "outputs": [
    {
     "name": "stdout",
     "output_type": "stream",
     "text": [
      "Found 2274 images belonging to 30 classes.\n",
      "Found 410 images belonging to 30 classes.\n"
     ]
    }
   ],
   "source": [
    "from keras.preprocessing.image import ImageDataGenerator\n",
    "datagen = ImageDataGenerator(rescale=1./255,)\n",
    "\n",
    "\n",
    "train_generator = datagen.flow_from_directory('data',\n",
    "                                              target_size=(28,28),\n",
    "                                             shuffle = True)\n",
    "test_generator = datagen.flow_from_directory('test',\n",
    "                                            target_size=(28,28))"
   ]
  },
  {
   "cell_type": "code",
   "execution_count": 12,
   "id": "c4780119",
   "metadata": {},
   "outputs": [
    {
     "name": "stdout",
     "output_type": "stream",
     "text": [
      "Epoch 1/10\n"
     ]
    },
    {
     "name": "stderr",
     "output_type": "stream",
     "text": [
      "/var/folders/qb/17cfgm351wz2s07gx63rcx0w0000gn/T/ipykernel_15123/748317882.py:29: UserWarning: `Model.fit_generator` is deprecated and will be removed in a future version. Please use `Model.fit`, which supports generators.\n",
      "  history = model1.fit_generator(train_generator,epochs=10,validation_data=test_generator,verbose=1)\n"
     ]
    },
    {
     "name": "stdout",
     "output_type": "stream",
     "text": [
      "72/72 [==============================] - 2s 28ms/step - loss: 3.1137 - acc: 0.1086 - val_loss: 1.5978 - val_acc: 0.4829\n",
      "Epoch 2/10\n",
      "72/72 [==============================] - 1s 20ms/step - loss: 0.5266 - acc: 0.8065 - val_loss: 0.0652 - val_acc: 1.0000\n",
      "Epoch 3/10\n",
      "72/72 [==============================] - 1s 21ms/step - loss: 0.0104 - acc: 0.9996 - val_loss: 0.0090 - val_acc: 1.0000\n",
      "Epoch 4/10\n",
      "72/72 [==============================] - 2s 21ms/step - loss: 0.0019 - acc: 1.0000 - val_loss: 0.0055 - val_acc: 1.0000\n",
      "Epoch 5/10\n",
      "72/72 [==============================] - 2s 22ms/step - loss: 0.0010 - acc: 1.0000 - val_loss: 0.0036 - val_acc: 1.0000\n",
      "Epoch 6/10\n",
      "72/72 [==============================] - 2s 21ms/step - loss: 6.7532e-04 - acc: 1.0000 - val_loss: 0.0026 - val_acc: 1.0000\n",
      "Epoch 7/10\n",
      "72/72 [==============================] - 2s 21ms/step - loss: 4.5814e-04 - acc: 1.0000 - val_loss: 0.0019 - val_acc: 1.0000\n",
      "Epoch 8/10\n",
      "72/72 [==============================] - 2s 21ms/step - loss: 3.4593e-04 - acc: 1.0000 - val_loss: 0.0014 - val_acc: 1.0000\n",
      "Epoch 9/10\n",
      "72/72 [==============================] - 2s 21ms/step - loss: 2.5999e-04 - acc: 1.0000 - val_loss: 0.0012 - val_acc: 1.0000\n",
      "Epoch 10/10\n",
      "72/72 [==============================] - 2s 21ms/step - loss: 2.0687e-04 - acc: 1.0000 - val_loss: 0.0011 - val_acc: 1.0000\n"
     ]
    }
   ],
   "source": [
    "from keras import backend as K\n",
    "from keras import layers as L\n",
    "from keras.models import Model,load_model\n",
    "from keras.regularizers import l2\n",
    "from keras.callbacks import ModelCheckpoint,ReduceLROnPlateau,EarlyStopping\n",
    "\n",
    "K.clear_session()\n",
    "\n",
    "model_ckpt = ModelCheckpoint('BrailleNet.h5',save_best_only=True)\n",
    "reduce_lr = ReduceLROnPlateau(patience=8,verbose=0)\n",
    "early_stop = EarlyStopping(patience=15,verbose=1)\n",
    "\n",
    "entry = L.Input(shape=(28,28,3))\n",
    "x = L.SeparableConv2D(64,(3,3),activation='relu')(entry)\n",
    "x = L.MaxPooling2D((2,2))(x)\n",
    "x = L.SeparableConv2D(128,(3,3),activation='relu')(x)\n",
    "x = L.MaxPooling2D((2,2))(x)\n",
    "x = L.Conv2D(256,(2,2),activation='relu')(x)\n",
    "x = L.MaxPooling2D()(x)\n",
    "x = L.Flatten()(x)\n",
    "# x = L.LeakyReLU()(x)\n",
    "# x = L.Dense(64,kernel_regularizer=l2(2e-4))(x)\n",
    "# x = L.LeakyReLU()(x)\n",
    "x = L.Dense(30,activation='softmax')(x)\n",
    "\n",
    "model1 = Model(entry,x)\n",
    "model1.compile(loss='categorical_crossentropy',optimizer='adam',metrics=['acc'])\n",
    "\n",
    "history = model1.fit_generator(train_generator,epochs=10,validation_data=test_generator,verbose=1)"
   ]
  },
  {
   "cell_type": "code",
   "execution_count": 5,
   "id": "6c519a69",
   "metadata": {},
   "outputs": [],
   "source": [
    "import numpy as np"
   ]
  },
  {
   "cell_type": "code",
   "execution_count": 6,
   "id": "fafcec11",
   "metadata": {},
   "outputs": [],
   "source": [
    "import tensorflow as tf"
   ]
  },
  {
   "cell_type": "code",
   "execution_count": 7,
   "id": "d9b3f9ba",
   "metadata": {},
   "outputs": [],
   "source": [
    "tf.keras.models.save_model(model1,\"model_braille_v17.h5\")"
   ]
  },
  {
   "cell_type": "code",
   "execution_count": null,
   "id": "2affaceb",
   "metadata": {},
   "outputs": [],
   "source": []
  },
  {
   "cell_type": "code",
   "execution_count": null,
   "id": "96b6a5c4",
   "metadata": {},
   "outputs": [],
   "source": []
  },
  {
   "cell_type": "code",
   "execution_count": null,
   "id": "67f461ca",
   "metadata": {},
   "outputs": [],
   "source": []
  },
  {
   "cell_type": "code",
   "execution_count": null,
   "id": "443dbfe1",
   "metadata": {},
   "outputs": [],
   "source": []
  },
  {
   "cell_type": "code",
   "execution_count": null,
   "id": "bc8d7ba4",
   "metadata": {},
   "outputs": [],
   "source": []
  },
  {
   "cell_type": "code",
   "execution_count": null,
   "id": "a653b0ab",
   "metadata": {},
   "outputs": [],
   "source": []
  },
  {
   "cell_type": "code",
   "execution_count": null,
   "id": "f69f3feb",
   "metadata": {},
   "outputs": [],
   "source": []
  },
  {
   "cell_type": "code",
   "execution_count": null,
   "id": "4d038879",
   "metadata": {},
   "outputs": [],
   "source": []
  },
  {
   "cell_type": "code",
   "execution_count": null,
   "id": "c70b486f",
   "metadata": {},
   "outputs": [],
   "source": []
  },
  {
   "cell_type": "code",
   "execution_count": 16,
   "id": "62d65f27",
   "metadata": {},
   "outputs": [
    {
     "name": "stdout",
     "output_type": "stream",
     "text": [
      "Found 124 images belonging to 2 classes.\n",
      "Found 10 images belonging to 2 classes.\n"
     ]
    }
   ],
   "source": [
    "from keras.preprocessing.image import ImageDataGenerator\n",
    "datagen = ImageDataGenerator(rescale=1./255,)\n",
    "\n",
    "\n",
    "train_generator = datagen.flow_from_directory('run/train',\n",
    "                                              target_size=(28,28),\n",
    "                                             shuffle = True)\n",
    "test_generator = datagen.flow_from_directory('run/test',\n",
    "                                            target_size=(28,28))"
   ]
  },
  {
   "cell_type": "code",
   "execution_count": 30,
   "id": "d51ee594",
   "metadata": {},
   "outputs": [
    {
     "name": "stdout",
     "output_type": "stream",
     "text": [
      "Epoch 1/10\n"
     ]
    },
    {
     "name": "stderr",
     "output_type": "stream",
     "text": [
      "/var/folders/qb/17cfgm351wz2s07gx63rcx0w0000gn/T/ipykernel_15123/1955036232.py:28: UserWarning: `Model.fit_generator` is deprecated and will be removed in a future version. Please use `Model.fit`, which supports generators.\n",
      "  history = model1.fit_generator(train_generator,epochs=10,validation_data=test_generator,verbose=1)\n"
     ]
    },
    {
     "name": "stdout",
     "output_type": "stream",
     "text": [
      "4/4 [==============================] - 1s 86ms/step - loss: 0.6764 - acc: 0.5645 - val_loss: 0.6620 - val_acc: 0.5000\n",
      "Epoch 2/10\n",
      "4/4 [==============================] - 0s 38ms/step - loss: 0.4562 - acc: 0.6774 - val_loss: 0.4879 - val_acc: 0.5000\n",
      "Epoch 3/10\n",
      "4/4 [==============================] - 0s 43ms/step - loss: 0.3081 - acc: 0.8306 - val_loss: 0.3699 - val_acc: 1.0000\n",
      "Epoch 4/10\n",
      "4/4 [==============================] - 0s 43ms/step - loss: 0.2454 - acc: 1.0000 - val_loss: 0.3150 - val_acc: 1.0000\n",
      "Epoch 5/10\n",
      "4/4 [==============================] - 0s 39ms/step - loss: 0.2028 - acc: 1.0000 - val_loss: 0.2217 - val_acc: 1.0000\n",
      "Epoch 6/10\n",
      "4/4 [==============================] - 0s 39ms/step - loss: 0.1269 - acc: 1.0000 - val_loss: 0.0834 - val_acc: 1.0000\n",
      "Epoch 7/10\n",
      "4/4 [==============================] - 0s 39ms/step - loss: 0.0565 - acc: 1.0000 - val_loss: 0.0475 - val_acc: 1.0000\n",
      "Epoch 8/10\n",
      "4/4 [==============================] - 0s 41ms/step - loss: 0.0473 - acc: 1.0000 - val_loss: 0.0462 - val_acc: 1.0000\n",
      "Epoch 9/10\n",
      "4/4 [==============================] - 0s 41ms/step - loss: 0.0457 - acc: 1.0000 - val_loss: 0.0453 - val_acc: 1.0000\n",
      "Epoch 10/10\n",
      "4/4 [==============================] - 0s 39ms/step - loss: 0.0452 - acc: 1.0000 - val_loss: 0.0447 - val_acc: 1.0000\n"
     ]
    }
   ],
   "source": [
    "from keras import backend as K\n",
    "from keras import layers as L\n",
    "from keras.models import Model,load_model\n",
    "from keras.regularizers import l2\n",
    "from keras.callbacks import ModelCheckpoint,ReduceLROnPlateau,EarlyStopping\n",
    "\n",
    "K.clear_session()\n",
    "\n",
    "model_ckpt = ModelCheckpoint('BrailleNet.h5',save_best_only=True)\n",
    "reduce_lr = ReduceLROnPlateau(patience=8,verbose=0)\n",
    "early_stop = EarlyStopping(patience=15,verbose=1)\n",
    "\n",
    "entry = L.Input(shape=(28,28,3))\n",
    "x = L.Conv2D(64,(3,3),activation='relu')(entry)\n",
    "x = L.MaxPooling2D((2,2))(x)\n",
    "x = L.Conv2D(128,(3,3),activation='relu')(x)\n",
    "x = L.MaxPooling2D((2,2))(x)\n",
    "x = L.Conv2D(256,(2,2),activation='relu')(x)\n",
    "x = L.MaxPooling2D()(x)\n",
    "x = L.Dense(128,kernel_regularizer=l2(2e-4))(x)\n",
    "x = L.Dense(64,kernel_regularizer=l2(2e-4))(x)\n",
    "x = L.Flatten()(x)\n",
    "x = L.Dense(2,activation='softmax')(x)\n",
    "\n",
    "model1 = Model(entry,x)\n",
    "model1.compile(loss='categorical_crossentropy',optimizer='adam',metrics=['acc'])\n",
    "\n",
    "history = model1.fit_generator(train_generator,epochs=10,validation_data=test_generator,verbose=1)"
   ]
  },
  {
   "cell_type": "code",
   "execution_count": 32,
   "id": "837bacf2",
   "metadata": {},
   "outputs": [],
   "source": [
    "tf.keras.models.save_model(model1,\"model_braille_space_ignore.h5\")"
   ]
  },
  {
   "cell_type": "code",
   "execution_count": 39,
   "id": "673726b0",
   "metadata": {},
   "outputs": [
    {
     "data": {
      "text/plain": [
       "1"
      ]
     },
     "execution_count": 39,
     "metadata": {},
     "output_type": "execute_result"
    }
   ],
   "source": [
    "np.argmax(model1.predict(np.expand_dims(f,axis=0)))"
   ]
  },
  {
   "cell_type": "code",
   "execution_count": 34,
   "id": "4ab2a9c6",
   "metadata": {},
   "outputs": [],
   "source": [
    "import cv2\n",
    "f = cv2.imread('run/train/space/a_img1_2.jpg')\n",
    "f = f/255."
   ]
  },
  {
   "cell_type": "code",
   "execution_count": null,
   "id": "4a76efed",
   "metadata": {},
   "outputs": [],
   "source": []
  }
 ],
 "metadata": {
  "kernelspec": {
   "display_name": "Python 3 (ipykernel)",
   "language": "python",
   "name": "python3"
  },
  "language_info": {
   "codemirror_mode": {
    "name": "ipython",
    "version": 3
   },
   "file_extension": ".py",
   "mimetype": "text/x-python",
   "name": "python",
   "nbconvert_exporter": "python",
   "pygments_lexer": "ipython3",
   "version": "3.9.7"
  }
 },
 "nbformat": 4,
 "nbformat_minor": 5
}
